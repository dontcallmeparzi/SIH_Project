{
  "nbformat": 4,
  "nbformat_minor": 0,
  "metadata": {
    "colab": {
      "provenance": []
    },
    "kernelspec": {
      "name": "python3",
      "display_name": "Python 3"
    },
    "language_info": {
      "name": "python"
    }
  },
  "cells": [
    {
      "cell_type": "code",
      "execution_count": 2,
      "metadata": {
        "colab": {
          "base_uri": "https://localhost:8080/"
        },
        "id": "7NRaMF5mRtGA",
        "outputId": "73474192-274f-40e4-eac5-63c7b4abd8a2"
      },
      "outputs": [
        {
          "output_type": "stream",
          "name": "stdout",
          "text": [
            "In which year did WW2 end? 1945\n",
            "Who wrote Hamlet? shakespeare\n",
            "What is the smallest prime number? 2\n",
            "Who wrote Romeo and Juliet? me\n",
            "How many sides does a hexagon have? 6\n",
            "You scored: 3\n"
          ]
        }
      ],
      "source": [
        "import csv\n",
        "import random\n",
        "\n",
        "NUM_QUESTIONS = 5\n",
        "\n",
        "questions = []\n",
        "with open('questions.csv', 'r') as csvfile:\n",
        "    reader = csv.DictReader(csvfile)\n",
        "    for row in reader:\n",
        "        question = {\n",
        "            'id': row['id'],\n",
        "            'question': row['question'],\n",
        "            'answer': row['answer'],\n",
        "            'difficulty': float(row['difficulty'])\n",
        "        }\n",
        "        questions.append(question)\n",
        "\n",
        "asked_questions = []\n",
        "\n",
        "def ask_question(difficulty):\n",
        "    possible = [q for q in questions if q['difficulty'] == difficulty and q['id'] not in asked_questions]\n",
        "\n",
        "    if not possible:\n",
        "        difficulty -= 0.1\n",
        "        return ask_question(difficulty)\n",
        "\n",
        "    question = random.choice(possible)\n",
        "    asked_questions.append(question['id'])\n",
        "    user_answer = input(question['question'] + ' ')\n",
        "    return question['answer'] == user_answer\n",
        "\n",
        "score = 0\n",
        "difficulty = 0.5\n",
        "for i in range(NUM_QUESTIONS):\n",
        "    if ask_question(difficulty):\n",
        "        score += 1\n",
        "        difficulty += 0.1\n",
        "    else:\n",
        "        difficulty -= 0.1\n",
        "\n",
        "print('You scored:', score)"
      ]
    }
  ]
}