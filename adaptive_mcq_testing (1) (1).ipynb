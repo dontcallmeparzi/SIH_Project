{
  "nbformat": 4,
  "nbformat_minor": 0,
  "metadata": {
    "colab": {
      "provenance": []
    },
    "kernelspec": {
      "name": "python3",
      "display_name": "Python 3"
    },
    "language_info": {
      "name": "python"
    }
  },
  "cells": [
    {
      "cell_type": "code",
      "source": [
        "import csv\n",
        "import random\n",
        "\n",
        "NUM_QUESTIONS = 5\n",
        "\n",
        "questions = []\n",
        "with open('engg_test_questions.csv', 'r') as csvfile:\n",
        "  reader = csv.DictReader(csvfile)\n",
        "  for row in reader:\n",
        "    question = {\n",
        "      'id': row['id'],\n",
        "      'question': row['question'],\n",
        "      'answer': row['answer'],\n",
        "      'difficulty': float(row['difficulty'])\n",
        "    }\n",
        "    questions.append(question)\n",
        "\n",
        "asked_questions = []\n",
        "\n",
        "def ask_question(difficulty):\n",
        "  possible = [q for q in questions if q['difficulty'] == difficulty and q['id'] not in asked_questions]\n",
        "\n",
        "  if not possible:\n",
        "    difficulty -= 0.1\n",
        "    return ask_question(difficulty)\n",
        "\n",
        "  question = random.choice(possible)\n",
        "  asked_questions.append(question['id'])\n",
        "\n",
        "  user_answer = input(question['question'] + ' ')\n",
        "  return question['answer'] == user_answer\n",
        "\n",
        "score = 0\n",
        "difficulty = 0.5\n",
        "for i in range(NUM_QUESTIONS):\n",
        "  if ask_question(difficulty):\n",
        "    score += 1\n",
        "    difficulty += 0.1\n",
        "  else:\n",
        "    difficulty -= 0.1\n",
        "\n",
        "max_score = NUM_QUESTIONS\n",
        "ability = (score / max_score) * 100\n",
        "\n",
        "ability_levels = [\n",
        "  (80, 'High'),\n",
        "  (60, 'Medium'),\n",
        "  (40, 'Low')\n",
        "]\n",
        "\n",
        "for min_ability, level in ability_levels:\n",
        "  if ability >= min_ability:\n",
        "    ability_level = level\n",
        "    break\n",
        "else:\n",
        "  ability_level = 'Very Low'\n",
        "\n",
        "print(f'You scored {score} out of {max_score}')\n",
        "print(f'Your estimated ability level is: {ability_level} ({ability:.0f}%)')"
      ],
      "metadata": {
        "colab": {
          "base_uri": "https://localhost:8080/"
        },
        "id": "uo2BQT_TVivW",
        "outputId": "197b612e-14a9-4d42-f377-6c437c0efc63"
      },
      "execution_count": 4,
      "outputs": [
        {
          "output_type": "stream",
          "name": "stdout",
          "text": [
            "Tensile strength measures a) Weight b) Hardness c) Ability to stretch d) Ability to withstand stretching  d\n",
            "What scale is absolute zero based on? a) Fahrenheit b) Celsius c) Rankine d) Kelvin d\n",
            "Which increases with gas temperature? a) Volume b) Pressure c) Density d) Viscosity a\n",
            "Which bridge has cables supporting the deck? a) Beam b) Arch c) Suspension d) Truss b\n",
            "Which uses degrees, minutes, seconds? a) Temperature b) Speed c) Latitude/longitude d) Angles d\n",
            "You scored 2 out of 5\n",
            "Your estimated ability level is: Low (40%)\n"
          ]
        }
      ]
    }
  ]
}